{
 "metadata": {
  "language_info": {
   "codemirror_mode": {
    "name": "ipython",
    "version": 3
   },
   "file_extension": ".py",
   "mimetype": "text/x-python",
   "name": "python",
   "nbconvert_exporter": "python",
   "pygments_lexer": "ipython3",
   "version": "3.8.5-final"
  },
  "orig_nbformat": 2,
  "kernelspec": {
   "name": "python3",
   "display_name": "Python 3.8.5 64-bit ('kuhnie': virtualenv)",
   "metadata": {
    "interpreter": {
     "hash": "1069a05e44c2652dfca512fe2a9572bc78d7076fd0ad2ea71f27c4bc70a0e70f"
    }
   }
  }
 },
 "nbformat": 4,
 "nbformat_minor": 2,
 "cells": [
  {
   "cell_type": "code",
   "execution_count": 9,
   "metadata": {},
   "outputs": [
    {
     "output_type": "stream",
     "name": "stdout",
     "text": [
      "c:\\Users\\kuhnie\\code-chicago\\gcfd\\code-for-chicago-gcfd\n"
     ]
    }
   ],
   "source": [
    "%cd .."
   ]
  },
  {
   "cell_type": "code",
   "execution_count": 11,
   "metadata": {},
   "outputs": [],
   "source": [
    "from src.census_response import CensusData"
   ]
  },
  {
   "cell_type": "code",
   "execution_count": 12,
   "metadata": {},
   "outputs": [],
   "source": [
    "CensusData.load_df()"
   ]
  },
  {
   "cell_type": "code",
   "execution_count": 19,
   "metadata": {},
   "outputs": [
    {
     "output_type": "execute_result",
     "data": {
      "text/plain": [
       "       race_total  ...                                poverty_percentages\n",
       "60002       24066  ...  {'poverty_population_poverty': 0.075331, 'pove...\n",
       "60004       50915  ...  {'poverty_population_poverty': 0.047824, 'pove...\n",
       "60005       29539  ...  {'poverty_population_poverty': 0.079041, 'pove...\n",
       "60007       33420  ...  {'poverty_population_poverty': 0.038282, 'pove...\n",
       "60008       21833  ...  {'poverty_population_poverty': 0.062858, 'pove...\n",
       "\n",
       "[5 rows x 15 columns]"
      ],
      "text/html": "<div>\n<style scoped>\n    .dataframe tbody tr th:only-of-type {\n        vertical-align: middle;\n    }\n\n    .dataframe tbody tr th {\n        vertical-align: top;\n    }\n\n    .dataframe thead th {\n        text-align: right;\n    }\n</style>\n<table border=\"1\" class=\"dataframe\">\n  <thead>\n    <tr style=\"text-align: right;\">\n      <th></th>\n      <th>race_total</th>\n      <th>race_native</th>\n      <th>race_black</th>\n      <th>race_white</th>\n      <th>race_twoplus_total</th>\n      <th>race_pacific</th>\n      <th>race_other</th>\n      <th>race_asian</th>\n      <th>race_hispaniclatino_total</th>\n      <th>poverty_population_total</th>\n      <th>poverty_population_poverty</th>\n      <th>poverty_population_poverty_child</th>\n      <th>race_percentages</th>\n      <th>race_majority</th>\n      <th>poverty_percentages</th>\n    </tr>\n  </thead>\n  <tbody>\n    <tr>\n      <th>60002</th>\n      <td>24066</td>\n      <td>4</td>\n      <td>525</td>\n      <td>20862</td>\n      <td>669</td>\n      <td>0</td>\n      <td>0</td>\n      <td>344</td>\n      <td>1662</td>\n      <td>24014</td>\n      <td>1809</td>\n      <td>475</td>\n      <td>{'race_native': 0.000166, 'race_black': 0.0218...</td>\n      <td>race_white</td>\n      <td>{'poverty_population_poverty': 0.075331, 'pove...</td>\n    </tr>\n    <tr>\n      <th>60004</th>\n      <td>50915</td>\n      <td>29</td>\n      <td>411</td>\n      <td>40720</td>\n      <td>740</td>\n      <td>0</td>\n      <td>0</td>\n      <td>5002</td>\n      <td>4013</td>\n      <td>50372</td>\n      <td>2409</td>\n      <td>662</td>\n      <td>{'race_native': 0.00057, 'race_black': 0.00807...</td>\n      <td>race_white</td>\n      <td>{'poverty_population_poverty': 0.047824, 'pove...</td>\n    </tr>\n    <tr>\n      <th>60005</th>\n      <td>29539</td>\n      <td>0</td>\n      <td>667</td>\n      <td>22700</td>\n      <td>245</td>\n      <td>0</td>\n      <td>59</td>\n      <td>2705</td>\n      <td>3163</td>\n      <td>29314</td>\n      <td>2317</td>\n      <td>475</td>\n      <td>{'race_native': 0.0, 'race_black': 0.02258, 'r...</td>\n      <td>race_white</td>\n      <td>{'poverty_population_poverty': 0.079041, 'pove...</td>\n    </tr>\n    <tr>\n      <th>60007</th>\n      <td>33420</td>\n      <td>17</td>\n      <td>387</td>\n      <td>25084</td>\n      <td>512</td>\n      <td>0</td>\n      <td>35</td>\n      <td>3365</td>\n      <td>4020</td>\n      <td>33201</td>\n      <td>1271</td>\n      <td>234</td>\n      <td>{'race_native': 0.000509, 'race_black': 0.0115...</td>\n      <td>race_white</td>\n      <td>{'poverty_population_poverty': 0.038282, 'pove...</td>\n    </tr>\n    <tr>\n      <th>60008</th>\n      <td>21833</td>\n      <td>0</td>\n      <td>1009</td>\n      <td>13178</td>\n      <td>348</td>\n      <td>92</td>\n      <td>0</td>\n      <td>1776</td>\n      <td>5430</td>\n      <td>21668</td>\n      <td>1362</td>\n      <td>325</td>\n      <td>{'race_native': 0.0, 'race_black': 0.046214, '...</td>\n      <td>race_white</td>\n      <td>{'poverty_population_poverty': 0.062858, 'pove...</td>\n    </tr>\n  </tbody>\n</table>\n</div>"
     },
     "metadata": {},
     "execution_count": 19
    }
   ],
   "source": [
    "zip_df = CensusData.df_dict['zip']\n",
    "zip_df.head()"
   ]
  },
  {
   "cell_type": "code",
   "execution_count": 20,
   "metadata": {},
   "outputs": [
    {
     "output_type": "execute_result",
     "data": {
      "text/plain": [
       "                             NAME  ...                                poverty_percentages\n",
       "17001      Adams County, Illinois  ...  {'poverty_population_poverty': 0.12143, 'pover...\n",
       "17003  Alexander County, Illinois  ...  {'poverty_population_poverty': 0.302174, 'pove...\n",
       "17005       Bond County, Illinois  ...  {'poverty_population_poverty': 0.144871, 'pove...\n",
       "17007      Boone County, Illinois  ...  {'poverty_population_poverty': 0.11006, 'pover...\n",
       "17009      Brown County, Illinois  ...  {'poverty_population_poverty': 0.100333, 'pove...\n",
       "\n",
       "[5 rows x 16 columns]"
      ],
      "text/html": "<div>\n<style scoped>\n    .dataframe tbody tr th:only-of-type {\n        vertical-align: middle;\n    }\n\n    .dataframe tbody tr th {\n        vertical-align: top;\n    }\n\n    .dataframe thead th {\n        text-align: right;\n    }\n</style>\n<table border=\"1\" class=\"dataframe\">\n  <thead>\n    <tr style=\"text-align: right;\">\n      <th></th>\n      <th>NAME</th>\n      <th>race_total</th>\n      <th>race_native</th>\n      <th>race_black</th>\n      <th>race_white</th>\n      <th>race_twoplus_total</th>\n      <th>race_pacific</th>\n      <th>race_other</th>\n      <th>race_asian</th>\n      <th>race_hispaniclatino_total</th>\n      <th>poverty_population_total</th>\n      <th>poverty_population_poverty</th>\n      <th>poverty_population_poverty_child</th>\n      <th>race_percentages</th>\n      <th>race_majority</th>\n      <th>poverty_percentages</th>\n    </tr>\n  </thead>\n  <tbody>\n    <tr>\n      <th>17001</th>\n      <td>Adams County, Illinois</td>\n      <td>66427</td>\n      <td>178</td>\n      <td>2676</td>\n      <td>61009</td>\n      <td>889</td>\n      <td>42</td>\n      <td>72</td>\n      <td>540</td>\n      <td>1021</td>\n      <td>64844</td>\n      <td>7874</td>\n      <td>2385</td>\n      <td>{'race_native': 0.00268, 'race_black': 0.04028...</td>\n      <td>race_white</td>\n      <td>{'poverty_population_poverty': 0.12143, 'pover...</td>\n    </tr>\n    <tr>\n      <th>17003</th>\n      <td>Alexander County, Illinois</td>\n      <td>6532</td>\n      <td>48</td>\n      <td>2169</td>\n      <td>4063</td>\n      <td>173</td>\n      <td>0</td>\n      <td>0</td>\n      <td>6</td>\n      <td>73</td>\n      <td>6440</td>\n      <td>1946</td>\n      <td>813</td>\n      <td>{'race_native': 0.007348, 'race_black': 0.3320...</td>\n      <td>race_white</td>\n      <td>{'poverty_population_poverty': 0.302174, 'pove...</td>\n    </tr>\n    <tr>\n      <th>17005</th>\n      <td>Bond County, Illinois</td>\n      <td>16712</td>\n      <td>50</td>\n      <td>1043</td>\n      <td>14705</td>\n      <td>118</td>\n      <td>0</td>\n      <td>22</td>\n      <td>196</td>\n      <td>578</td>\n      <td>14965</td>\n      <td>2168</td>\n      <td>602</td>\n      <td>{'race_native': 0.002992, 'race_black': 0.0624...</td>\n      <td>race_white</td>\n      <td>{'poverty_population_poverty': 0.144871, 'pove...</td>\n    </tr>\n    <tr>\n      <th>17007</th>\n      <td>Boone County, Illinois</td>\n      <td>53606</td>\n      <td>153</td>\n      <td>1084</td>\n      <td>39370</td>\n      <td>848</td>\n      <td>0</td>\n      <td>59</td>\n      <td>633</td>\n      <td>11459</td>\n      <td>53089</td>\n      <td>5843</td>\n      <td>2222</td>\n      <td>{'race_native': 0.002854, 'race_black': 0.0202...</td>\n      <td>race_white</td>\n      <td>{'poverty_population_poverty': 0.11006, 'pover...</td>\n    </tr>\n    <tr>\n      <th>17009</th>\n      <td>Brown County, Illinois</td>\n      <td>6675</td>\n      <td>6</td>\n      <td>1343</td>\n      <td>4933</td>\n      <td>66</td>\n      <td>0</td>\n      <td>4</td>\n      <td>37</td>\n      <td>286</td>\n      <td>4804</td>\n      <td>482</td>\n      <td>132</td>\n      <td>{'race_native': 0.000899, 'race_black': 0.2011...</td>\n      <td>race_white</td>\n      <td>{'poverty_population_poverty': 0.100333, 'pove...</td>\n    </tr>\n  </tbody>\n</table>\n</div>"
     },
     "metadata": {},
     "execution_count": 20
    }
   ],
   "source": [
    "county_df = CensusData.df_dict['county']\n",
    "county_df.head()"
   ]
  },
  {
   "cell_type": "code",
   "execution_count": null,
   "metadata": {},
   "outputs": [],
   "source": []
  }
 ]
}