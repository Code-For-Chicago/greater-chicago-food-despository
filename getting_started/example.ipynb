{
 "metadata": {
  "language_info": {
   "codemirror_mode": {
    "name": "ipython",
    "version": 3
   },
   "file_extension": ".py",
   "mimetype": "text/x-python",
   "name": "python",
   "nbconvert_exporter": "python",
   "pygments_lexer": "ipython3",
   "version": "3.8.5-final"
  },
  "orig_nbformat": 2,
  "kernelspec": {
   "name": "python3",
   "display_name": "Python 3.8.5 64-bit (conda)",
   "metadata": {
    "interpreter": {
     "hash": "1069a05e44c2652dfca512fe2a9572bc78d7076fd0ad2ea71f27c4bc70a0e70f"
    }
   }
  }
 },
 "nbformat": 4,
 "nbformat_minor": 2,
 "cells": [
  {
   "cell_type": "code",
   "execution_count": 3,
   "metadata": {},
   "outputs": [
    {
     "output_type": "stream",
     "name": "stdout",
     "text": [
      "c:\\Users\\kuhnie\\code-chicago\\gcfd\\code-for-chicago-gcfd\n"
     ]
    }
   ],
   "source": [
    "%cd ..\n",
    "from src.census_response import CensusData"
   ]
  },
  {
   "cell_type": "code",
   "execution_count": 4,
   "metadata": {},
   "outputs": [],
   "source": [
    "CensusData.load_df()"
   ]
  },
  {
   "cell_type": "code",
   "execution_count": 5,
   "metadata": {},
   "outputs": [
    {
     "output_type": "execute_result",
     "data": {
      "text/plain": [
       "       race_total  race_native  race_black  race_white  race_twoplus_total  \\\n",
       "60002       24066            4         525       20862                 669   \n",
       "60004       50915           29         411       40720                 740   \n",
       "60005       29539            0         667       22700                 245   \n",
       "60007       33420           17         387       25084                 512   \n",
       "60008       21833            0        1009       13178                 348   \n",
       "\n",
       "       race_pacific  race_other  race_asian  race_hispaniclatino_total  \\\n",
       "60002             0           0         344                       1662   \n",
       "60004             0           0        5002                       4013   \n",
       "60005             0          59        2705                       3163   \n",
       "60007             0          35        3365                       4020   \n",
       "60008            92           0        1776                       5430   \n",
       "\n",
       "       poverty_population_total  poverty_population_poverty  \\\n",
       "60002                     24014                        1809   \n",
       "60004                     50372                        2409   \n",
       "60005                     29314                        2317   \n",
       "60007                     33201                        1271   \n",
       "60008                     21668                        1362   \n",
       "\n",
       "       poverty_population_poverty_child  \\\n",
       "60002                               475   \n",
       "60004                               662   \n",
       "60005                               475   \n",
       "60007                               234   \n",
       "60008                               325   \n",
       "\n",
       "                                        race_percentages race_majority  \\\n",
       "60002  {'race_native': 0.000166, 'race_black': 0.0218...    race_white   \n",
       "60004  {'race_native': 0.00057, 'race_black': 0.00807...    race_white   \n",
       "60005  {'race_native': 0.0, 'race_black': 0.02258, 'r...    race_white   \n",
       "60007  {'race_native': 0.000509, 'race_black': 0.0115...    race_white   \n",
       "60008  {'race_native': 0.0, 'race_black': 0.046214, '...    race_white   \n",
       "\n",
       "                                     poverty_percentages  \n",
       "60002  {'poverty_population_poverty': 0.075331, 'pove...  \n",
       "60004  {'poverty_population_poverty': 0.047824, 'pove...  \n",
       "60005  {'poverty_population_poverty': 0.079041, 'pove...  \n",
       "60007  {'poverty_population_poverty': 0.038282, 'pove...  \n",
       "60008  {'poverty_population_poverty': 0.062858, 'pove...  "
      ],
      "text/html": "<div>\n<style scoped>\n    .dataframe tbody tr th:only-of-type {\n        vertical-align: middle;\n    }\n\n    .dataframe tbody tr th {\n        vertical-align: top;\n    }\n\n    .dataframe thead th {\n        text-align: right;\n    }\n</style>\n<table border=\"1\" class=\"dataframe\">\n  <thead>\n    <tr style=\"text-align: right;\">\n      <th></th>\n      <th>race_total</th>\n      <th>race_native</th>\n      <th>race_black</th>\n      <th>race_white</th>\n      <th>race_twoplus_total</th>\n      <th>race_pacific</th>\n      <th>race_other</th>\n      <th>race_asian</th>\n      <th>race_hispaniclatino_total</th>\n      <th>poverty_population_total</th>\n      <th>poverty_population_poverty</th>\n      <th>poverty_population_poverty_child</th>\n      <th>race_percentages</th>\n      <th>race_majority</th>\n      <th>poverty_percentages</th>\n    </tr>\n  </thead>\n  <tbody>\n    <tr>\n      <th>60002</th>\n      <td>24066</td>\n      <td>4</td>\n      <td>525</td>\n      <td>20862</td>\n      <td>669</td>\n      <td>0</td>\n      <td>0</td>\n      <td>344</td>\n      <td>1662</td>\n      <td>24014</td>\n      <td>1809</td>\n      <td>475</td>\n      <td>{'race_native': 0.000166, 'race_black': 0.0218...</td>\n      <td>race_white</td>\n      <td>{'poverty_population_poverty': 0.075331, 'pove...</td>\n    </tr>\n    <tr>\n      <th>60004</th>\n      <td>50915</td>\n      <td>29</td>\n      <td>411</td>\n      <td>40720</td>\n      <td>740</td>\n      <td>0</td>\n      <td>0</td>\n      <td>5002</td>\n      <td>4013</td>\n      <td>50372</td>\n      <td>2409</td>\n      <td>662</td>\n      <td>{'race_native': 0.00057, 'race_black': 0.00807...</td>\n      <td>race_white</td>\n      <td>{'poverty_population_poverty': 0.047824, 'pove...</td>\n    </tr>\n    <tr>\n      <th>60005</th>\n      <td>29539</td>\n      <td>0</td>\n      <td>667</td>\n      <td>22700</td>\n      <td>245</td>\n      <td>0</td>\n      <td>59</td>\n      <td>2705</td>\n      <td>3163</td>\n      <td>29314</td>\n      <td>2317</td>\n      <td>475</td>\n      <td>{'race_native': 0.0, 'race_black': 0.02258, 'r...</td>\n      <td>race_white</td>\n      <td>{'poverty_population_poverty': 0.079041, 'pove...</td>\n    </tr>\n    <tr>\n      <th>60007</th>\n      <td>33420</td>\n      <td>17</td>\n      <td>387</td>\n      <td>25084</td>\n      <td>512</td>\n      <td>0</td>\n      <td>35</td>\n      <td>3365</td>\n      <td>4020</td>\n      <td>33201</td>\n      <td>1271</td>\n      <td>234</td>\n      <td>{'race_native': 0.000509, 'race_black': 0.0115...</td>\n      <td>race_white</td>\n      <td>{'poverty_population_poverty': 0.038282, 'pove...</td>\n    </tr>\n    <tr>\n      <th>60008</th>\n      <td>21833</td>\n      <td>0</td>\n      <td>1009</td>\n      <td>13178</td>\n      <td>348</td>\n      <td>92</td>\n      <td>0</td>\n      <td>1776</td>\n      <td>5430</td>\n      <td>21668</td>\n      <td>1362</td>\n      <td>325</td>\n      <td>{'race_native': 0.0, 'race_black': 0.046214, '...</td>\n      <td>race_white</td>\n      <td>{'poverty_population_poverty': 0.062858, 'pove...</td>\n    </tr>\n  </tbody>\n</table>\n</div>"
     },
     "metadata": {},
     "execution_count": 5
    }
   ],
   "source": [
    "zip_df = CensusData.df_dict['zip']\n",
    "zip_df.head()"
   ]
  },
  {
   "cell_type": "code",
   "execution_count": 6,
   "metadata": {},
   "outputs": [
    {
     "output_type": "execute_result",
     "data": {
      "text/plain": [
       "                             NAME  race_total  race_native  race_black  \\\n",
       "17001      Adams County, Illinois       66427          178        2676   \n",
       "17003  Alexander County, Illinois        6532           48        2169   \n",
       "17005       Bond County, Illinois       16712           50        1043   \n",
       "17007      Boone County, Illinois       53606          153        1084   \n",
       "17009      Brown County, Illinois        6675            6        1343   \n",
       "\n",
       "       race_white  race_twoplus_total  race_pacific  race_other  race_asian  \\\n",
       "17001       61009                 889            42          72         540   \n",
       "17003        4063                 173             0           0           6   \n",
       "17005       14705                 118             0          22         196   \n",
       "17007       39370                 848             0          59         633   \n",
       "17009        4933                  66             0           4          37   \n",
       "\n",
       "       race_hispaniclatino_total  poverty_population_total  \\\n",
       "17001                       1021                     64844   \n",
       "17003                         73                      6440   \n",
       "17005                        578                     14965   \n",
       "17007                      11459                     53089   \n",
       "17009                        286                      4804   \n",
       "\n",
       "       poverty_population_poverty  poverty_population_poverty_child  \\\n",
       "17001                        7874                              2385   \n",
       "17003                        1946                               813   \n",
       "17005                        2168                               602   \n",
       "17007                        5843                              2222   \n",
       "17009                         482                               132   \n",
       "\n",
       "                                        race_percentages race_majority  \\\n",
       "17001  {'race_native': 0.00268, 'race_black': 0.04028...    race_white   \n",
       "17003  {'race_native': 0.007348, 'race_black': 0.3320...    race_white   \n",
       "17005  {'race_native': 0.002992, 'race_black': 0.0624...    race_white   \n",
       "17007  {'race_native': 0.002854, 'race_black': 0.0202...    race_white   \n",
       "17009  {'race_native': 0.000899, 'race_black': 0.2011...    race_white   \n",
       "\n",
       "                                     poverty_percentages  \n",
       "17001  {'poverty_population_poverty': 0.12143, 'pover...  \n",
       "17003  {'poverty_population_poverty': 0.302174, 'pove...  \n",
       "17005  {'poverty_population_poverty': 0.144871, 'pove...  \n",
       "17007  {'poverty_population_poverty': 0.11006, 'pover...  \n",
       "17009  {'poverty_population_poverty': 0.100333, 'pove...  "
      ],
      "text/html": "<div>\n<style scoped>\n    .dataframe tbody tr th:only-of-type {\n        vertical-align: middle;\n    }\n\n    .dataframe tbody tr th {\n        vertical-align: top;\n    }\n\n    .dataframe thead th {\n        text-align: right;\n    }\n</style>\n<table border=\"1\" class=\"dataframe\">\n  <thead>\n    <tr style=\"text-align: right;\">\n      <th></th>\n      <th>NAME</th>\n      <th>race_total</th>\n      <th>race_native</th>\n      <th>race_black</th>\n      <th>race_white</th>\n      <th>race_twoplus_total</th>\n      <th>race_pacific</th>\n      <th>race_other</th>\n      <th>race_asian</th>\n      <th>race_hispaniclatino_total</th>\n      <th>poverty_population_total</th>\n      <th>poverty_population_poverty</th>\n      <th>poverty_population_poverty_child</th>\n      <th>race_percentages</th>\n      <th>race_majority</th>\n      <th>poverty_percentages</th>\n    </tr>\n  </thead>\n  <tbody>\n    <tr>\n      <th>17001</th>\n      <td>Adams County, Illinois</td>\n      <td>66427</td>\n      <td>178</td>\n      <td>2676</td>\n      <td>61009</td>\n      <td>889</td>\n      <td>42</td>\n      <td>72</td>\n      <td>540</td>\n      <td>1021</td>\n      <td>64844</td>\n      <td>7874</td>\n      <td>2385</td>\n      <td>{'race_native': 0.00268, 'race_black': 0.04028...</td>\n      <td>race_white</td>\n      <td>{'poverty_population_poverty': 0.12143, 'pover...</td>\n    </tr>\n    <tr>\n      <th>17003</th>\n      <td>Alexander County, Illinois</td>\n      <td>6532</td>\n      <td>48</td>\n      <td>2169</td>\n      <td>4063</td>\n      <td>173</td>\n      <td>0</td>\n      <td>0</td>\n      <td>6</td>\n      <td>73</td>\n      <td>6440</td>\n      <td>1946</td>\n      <td>813</td>\n      <td>{'race_native': 0.007348, 'race_black': 0.3320...</td>\n      <td>race_white</td>\n      <td>{'poverty_population_poverty': 0.302174, 'pove...</td>\n    </tr>\n    <tr>\n      <th>17005</th>\n      <td>Bond County, Illinois</td>\n      <td>16712</td>\n      <td>50</td>\n      <td>1043</td>\n      <td>14705</td>\n      <td>118</td>\n      <td>0</td>\n      <td>22</td>\n      <td>196</td>\n      <td>578</td>\n      <td>14965</td>\n      <td>2168</td>\n      <td>602</td>\n      <td>{'race_native': 0.002992, 'race_black': 0.0624...</td>\n      <td>race_white</td>\n      <td>{'poverty_population_poverty': 0.144871, 'pove...</td>\n    </tr>\n    <tr>\n      <th>17007</th>\n      <td>Boone County, Illinois</td>\n      <td>53606</td>\n      <td>153</td>\n      <td>1084</td>\n      <td>39370</td>\n      <td>848</td>\n      <td>0</td>\n      <td>59</td>\n      <td>633</td>\n      <td>11459</td>\n      <td>53089</td>\n      <td>5843</td>\n      <td>2222</td>\n      <td>{'race_native': 0.002854, 'race_black': 0.0202...</td>\n      <td>race_white</td>\n      <td>{'poverty_population_poverty': 0.11006, 'pover...</td>\n    </tr>\n    <tr>\n      <th>17009</th>\n      <td>Brown County, Illinois</td>\n      <td>6675</td>\n      <td>6</td>\n      <td>1343</td>\n      <td>4933</td>\n      <td>66</td>\n      <td>0</td>\n      <td>4</td>\n      <td>37</td>\n      <td>286</td>\n      <td>4804</td>\n      <td>482</td>\n      <td>132</td>\n      <td>{'race_native': 0.000899, 'race_black': 0.2011...</td>\n      <td>race_white</td>\n      <td>{'poverty_population_poverty': 0.100333, 'pove...</td>\n    </tr>\n  </tbody>\n</table>\n</div>"
     },
     "metadata": {},
     "execution_count": 6
    }
   ],
   "source": [
    "county_df = CensusData.df_dict['county']\n",
    "county_df.head()"
   ]
  },
  {
   "cell_type": "code",
   "execution_count": 8,
   "metadata": {},
   "outputs": [
    {
     "output_type": "stream",
     "text": [
      "\u001b[1;31mInit signature:\u001b[0m\n",
      "\u001b[0mCensusData\u001b[0m\u001b[1;33m(\u001b[0m\u001b[1;33m\n",
      "\u001b[0m    \u001b[0mvar_metrics\u001b[0m\u001b[1;33m:\u001b[0m \u001b[0mtuple\u001b[0m\u001b[1;33m,\u001b[0m\u001b[1;33m\n",
      "\u001b[0m    \u001b[0mtable\u001b[0m\u001b[1;33m:\u001b[0m \u001b[0mstr\u001b[0m\u001b[1;33m,\u001b[0m\u001b[1;33m\n",
      "\u001b[0m    \u001b[0mgeo_ls\u001b[0m\u001b[1;33m:\u001b[0m \u001b[0mlist\u001b[0m \u001b[1;33m=\u001b[0m \u001b[1;33m[\u001b[0m\u001b[1;34m'zip'\u001b[0m\u001b[1;33m,\u001b[0m \u001b[1;34m'county'\u001b[0m\u001b[1;33m]\u001b[0m\u001b[1;33m,\u001b[0m\u001b[1;33m\n",
      "\u001b[0m\u001b[1;33m)\u001b[0m\u001b[1;33m\u001b[0m\u001b[1;33m\u001b[0m\u001b[0m\n",
      "\u001b[1;31mDocstring:\u001b[0m     \n",
      "Stores and Updates Census Data in df_dict\n",
      "input:\n",
      "    var_metrics (tuple):\n",
      "        [0] metric name (str) e.g. race, poverty\n",
      "        [1] variable (dict):\n",
      "            Keys: Census Table Codes\n",
      "            Values: Census Table Names/Aliases\n",
      "    table (str): link to ACS5 Data Tables\n",
      "    geo_ls (list): list of geographies to process\n",
      "Instructions:\n",
      "    Create a class instance via input described above\n",
      "    Use the get_data method to update CensusData.df_dict\n",
      "        View dataframes: df_dict[key] (key='zip' or 'county')\n",
      "    Save dataframe using CensusData.df_to_json()\n",
      "        Default saves zipped by geo_code\n",
      "        Set zip_df = False to save dataframes without processing\n",
      "    Load dataframe using CensusData.load_df()\n",
      "        Default loads unzipped saved file, described above\n",
      "\u001b[1;31mInit docstring:\u001b[0m\n",
      "Initialized instance\n",
      "Adds metric to class set data_metrics\n",
      "\u001b[1;31mFile:\u001b[0m           c:\\users\\kuhnie\\code-chicago\\gcfd\\code-for-chicago-gcfd\\src\\census_response.py\n",
      "\u001b[1;31mType:\u001b[0m           type\n",
      "\u001b[1;31mSubclasses:\u001b[0m     \n"
     ],
     "name": "stdout"
    }
   ],
   "source": [
    "CensusData?"
   ]
  },
  {
   "cell_type": "code",
   "execution_count": null,
   "metadata": {},
   "outputs": [],
   "source": []
  }
 ]
}