{
 "cells": [
  {
   "cell_type": "code",
   "execution_count": 9,
   "metadata": {},
   "outputs": [],
   "source": [
    "from census import Census\n",
    "from api_keys import census_key\n",
    "import json\n",
    "import requests\n",
    "import pandas as pd\n",
    "\n",
    "c = Census(census_key)"
   ]
  },
  {
   "cell_type": "code",
   "execution_count": 10,
   "metadata": {},
   "outputs": [
    {
     "data": {
      "text/plain": [
       "<Response [200]>"
      ]
     },
     "execution_count": 10,
     "metadata": {},
     "output_type": "execute_result"
    }
   ],
   "source": [
    "#Estimate!!Total!!Population for whom poverty status is determined\n",
    "pop_table = 'S1701_C01_001E'\n",
    "#Estimate!!Below poverty level!!Population for whom poverty status is determined\n",
    "poverty_table = 'S1701_C02_001E'\n",
    "\n",
    "subject_table = 'https://api.census.gov/data/2018/acs/acs5/subject?'\n",
    "get = f'NAME,{pop_table},{poverty_table}'\n",
    "geo = 'county:*&in=state:17'\n",
    "url = f'{subject_table}get={get}&for={geo}&key={census_key}'\n",
    "response = requests.get(url)\n",
    "response"
   ]
  },
  {
   "cell_type": "code",
   "execution_count": 11,
   "metadata": {},
   "outputs": [
    {
     "data": {
      "text/plain": [
       "[['NAME', 'S1701_C01_001E', 'S1701_C02_001E', 'state', 'county'],\n",
       " ['Jersey County, Illinois', '21109', '1944', '17', '083'],\n",
       " ['Putnam County, Illinois', '5686', '501', '17', '155'],\n",
       " ['De Witt County, Illinois', '15766', '1739', '17', '039'],\n",
       " ['Fayette County, Illinois', '19885', '3551', '17', '051']]"
      ]
     },
     "execution_count": 11,
     "metadata": {},
     "output_type": "execute_result"
    }
   ],
   "source": [
    "poverty_data = response.json()\n",
    "poverty_data[:5]"
   ]
  },
  {
   "cell_type": "code",
   "execution_count": 12,
   "metadata": {},
   "outputs": [
    {
     "data": {
      "text/html": [
       "<div>\n",
       "<style scoped>\n",
       "    .dataframe tbody tr th:only-of-type {\n",
       "        vertical-align: middle;\n",
       "    }\n",
       "\n",
       "    .dataframe tbody tr th {\n",
       "        vertical-align: top;\n",
       "    }\n",
       "\n",
       "    .dataframe thead th {\n",
       "        text-align: right;\n",
       "    }\n",
       "</style>\n",
       "<table border=\"1\" class=\"dataframe\">\n",
       "  <thead>\n",
       "    <tr style=\"text-align: right;\">\n",
       "      <th></th>\n",
       "      <th>NAME</th>\n",
       "      <th>S1701_C01_001E</th>\n",
       "      <th>S1701_C02_001E</th>\n",
       "      <th>state</th>\n",
       "      <th>county</th>\n",
       "    </tr>\n",
       "  </thead>\n",
       "  <tbody>\n",
       "    <tr>\n",
       "      <th>0</th>\n",
       "      <td>Jersey County, Illinois</td>\n",
       "      <td>21109</td>\n",
       "      <td>1944</td>\n",
       "      <td>17</td>\n",
       "      <td>083</td>\n",
       "    </tr>\n",
       "    <tr>\n",
       "      <th>1</th>\n",
       "      <td>Putnam County, Illinois</td>\n",
       "      <td>5686</td>\n",
       "      <td>501</td>\n",
       "      <td>17</td>\n",
       "      <td>155</td>\n",
       "    </tr>\n",
       "    <tr>\n",
       "      <th>2</th>\n",
       "      <td>De Witt County, Illinois</td>\n",
       "      <td>15766</td>\n",
       "      <td>1739</td>\n",
       "      <td>17</td>\n",
       "      <td>039</td>\n",
       "    </tr>\n",
       "    <tr>\n",
       "      <th>3</th>\n",
       "      <td>Fayette County, Illinois</td>\n",
       "      <td>19885</td>\n",
       "      <td>3551</td>\n",
       "      <td>17</td>\n",
       "      <td>051</td>\n",
       "    </tr>\n",
       "    <tr>\n",
       "      <th>4</th>\n",
       "      <td>Lee County, Illinois</td>\n",
       "      <td>31258</td>\n",
       "      <td>3392</td>\n",
       "      <td>17</td>\n",
       "      <td>103</td>\n",
       "    </tr>\n",
       "  </tbody>\n",
       "</table>\n",
       "</div>"
      ],
      "text/plain": [
       "                       NAME S1701_C01_001E S1701_C02_001E state county\n",
       "0   Jersey County, Illinois          21109           1944    17    083\n",
       "1   Putnam County, Illinois           5686            501    17    155\n",
       "2  De Witt County, Illinois          15766           1739    17    039\n",
       "3  Fayette County, Illinois          19885           3551    17    051\n",
       "4      Lee County, Illinois          31258           3392    17    103"
      ]
     },
     "execution_count": 12,
     "metadata": {},
     "output_type": "execute_result"
    }
   ],
   "source": [
    "poverty_df = pd.DataFrame(poverty_data[1:], columns=poverty_data[0], dtype='int32')\n",
    "poverty_df.head()"
   ]
  },
  {
   "cell_type": "code",
   "execution_count": 13,
   "metadata": {},
   "outputs": [],
   "source": [
    "poverty_series = poverty_df[poverty_table].astype('int32')\n",
    "pop_series=poverty_df[pop_table].astype('int32')\n",
    "poverty_df['Poverty Rate'] = poverty_series/pop_series * 100"
   ]
  },
  {
   "cell_type": "code",
   "execution_count": 14,
   "metadata": {},
   "outputs": [
    {
     "data": {
      "text/html": [
       "<div>\n",
       "<style scoped>\n",
       "    .dataframe tbody tr th:only-of-type {\n",
       "        vertical-align: middle;\n",
       "    }\n",
       "\n",
       "    .dataframe tbody tr th {\n",
       "        vertical-align: top;\n",
       "    }\n",
       "\n",
       "    .dataframe thead th {\n",
       "        text-align: right;\n",
       "    }\n",
       "</style>\n",
       "<table border=\"1\" class=\"dataframe\">\n",
       "  <thead>\n",
       "    <tr style=\"text-align: right;\">\n",
       "      <th></th>\n",
       "      <th>NAME</th>\n",
       "      <th>Total Population</th>\n",
       "      <th>Poverty Population</th>\n",
       "      <th>state</th>\n",
       "      <th>county</th>\n",
       "      <th>Poverty Rate</th>\n",
       "    </tr>\n",
       "  </thead>\n",
       "  <tbody>\n",
       "    <tr>\n",
       "      <th>63</th>\n",
       "      <td>Monroe County, Illinois</td>\n",
       "      <td>33672</td>\n",
       "      <td>1673</td>\n",
       "      <td>17</td>\n",
       "      <td>133</td>\n",
       "      <td>4.968520</td>\n",
       "    </tr>\n",
       "    <tr>\n",
       "      <th>99</th>\n",
       "      <td>Kendall County, Illinois</td>\n",
       "      <td>124009</td>\n",
       "      <td>6598</td>\n",
       "      <td>17</td>\n",
       "      <td>093</td>\n",
       "      <td>5.320582</td>\n",
       "    </tr>\n",
       "    <tr>\n",
       "      <th>67</th>\n",
       "      <td>Piatt County, Illinois</td>\n",
       "      <td>16335</td>\n",
       "      <td>970</td>\n",
       "      <td>17</td>\n",
       "      <td>147</td>\n",
       "      <td>5.938170</td>\n",
       "    </tr>\n",
       "    <tr>\n",
       "      <th>34</th>\n",
       "      <td>DuPage County, Illinois</td>\n",
       "      <td>918650</td>\n",
       "      <td>62203</td>\n",
       "      <td>17</td>\n",
       "      <td>043</td>\n",
       "      <td>6.771132</td>\n",
       "    </tr>\n",
       "    <tr>\n",
       "      <th>18</th>\n",
       "      <td>Will County, Illinois</td>\n",
       "      <td>678516</td>\n",
       "      <td>47519</td>\n",
       "      <td>17</td>\n",
       "      <td>197</td>\n",
       "      <td>7.003372</td>\n",
       "    </tr>\n",
       "  </tbody>\n",
       "</table>\n",
       "</div>"
      ],
      "text/plain": [
       "                        NAME Total Population Poverty Population state county  \\\n",
       "63   Monroe County, Illinois            33672               1673    17    133   \n",
       "99  Kendall County, Illinois           124009               6598    17    093   \n",
       "67    Piatt County, Illinois            16335                970    17    147   \n",
       "34   DuPage County, Illinois           918650              62203    17    043   \n",
       "18     Will County, Illinois           678516              47519    17    197   \n",
       "\n",
       "    Poverty Rate  \n",
       "63      4.968520  \n",
       "99      5.320582  \n",
       "67      5.938170  \n",
       "34      6.771132  \n",
       "18      7.003372  "
      ]
     },
     "execution_count": 14,
     "metadata": {},
     "output_type": "execute_result"
    }
   ],
   "source": [
    "draft_df = poverty_df.sort_values('Poverty Rate')\\\n",
    "            .rename(columns={poverty_table:'Poverty Population',\\\n",
    "                            pop_table:'Total Population'})\n",
    "draft_df.head()"
   ]
  },
  {
   "cell_type": "code",
   "execution_count": 7,
   "metadata": {},
   "outputs": [],
   "source": [
    "draft_df.to_csv('acs5_IL_county_calculatedpovertyrate.csv')"
   ]
  },
  {
   "cell_type": "code",
   "execution_count": null,
   "metadata": {},
   "outputs": [],
   "source": []
  }
 ],
 "metadata": {
  "kernelspec": {
   "display_name": "Python 3",
   "language": "python",
   "name": "python3"
  },
  "language_info": {
   "codemirror_mode": {
    "name": "ipython",
    "version": 3
   },
   "file_extension": ".py",
   "mimetype": "text/x-python",
   "name": "python",
   "nbconvert_exporter": "python",
   "pygments_lexer": "ipython3",
   "version": "3.7.4"
  }
 },
 "nbformat": 4,
 "nbformat_minor": 4
}
