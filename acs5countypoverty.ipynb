{
 "cells": [
  {
   "cell_type": "code",
   "execution_count": 6,
   "metadata": {},
   "outputs": [],
   "source": [
    "#from api_keys import census_key\n",
    "#import json\n",
    "#import requests"
   ]
  },
  {
   "cell_type": "code",
   "execution_count": 7,
   "metadata": {},
   "outputs": [],
   "source": [
    "#Estimate!!Total!!Population for whom poverty status is determined\n",
    "pop_table = 'S1701_C01_001E'\n",
    "#Estimate!!Below poverty level!!Population for whom poverty status is determined\n",
    "poverty_table = 'S1701_C02_001E'\n",
    "\n",
    "subject_table = 'https://api.census.gov/data/2018/acs/acs5/subject?'\n",
    "get = f'NAME,{pop_table},{poverty_table}'\n",
    "#county level request for IL (state 17)\n",
    "geo = 'county:*&in=state:17'\n",
    "url = f'{subject_table}get={get}&for={geo}&key={census_key}'\n",
    "response = requests.get(url)\n"
   ]
  },
  {
   "cell_type": "code",
   "execution_count": 8,
   "metadata": {},
   "outputs": [
    {
     "data": {
      "text/plain": [
       "<Response [200]>"
      ]
     },
     "execution_count": 8,
     "metadata": {},
     "output_type": "execute_result"
    }
   ],
   "source": [
    "from census_response import getCensusResponse\n",
    "\n",
    "get_ls = [pop_table, poverty_table]\n",
    "\n",
    "r = getCensusResponse(subject_table, get_ls, geo)\n",
    "r"
   ]
  },
  {
   "cell_type": "code",
   "execution_count": 4,
   "metadata": {},
   "outputs": [
    {
     "data": {
      "text/plain": [
       "[['NAME', 'S1701_C01_001E', 'S1701_C02_001E', 'state', 'county'],\n",
       " ['Jersey County, Illinois', '21109', '1944', '17', '083'],\n",
       " ['Putnam County, Illinois', '5686', '501', '17', '155'],\n",
       " ['De Witt County, Illinois', '15766', '1739', '17', '039'],\n",
       " ['Fayette County, Illinois', '19885', '3551', '17', '051']]"
      ]
     },
     "execution_count": 4,
     "metadata": {},
     "output_type": "execute_result"
    }
   ],
   "source": [
    "#poverty_data is list of lists, where list elements are rows\n",
    "#header row: name, population total, population poverty, fip state, fip county\n",
    "poverty_data = response.json()\n",
    "poverty_data[:5]"
   ]
  },
  {
   "cell_type": "code",
   "execution_count": 36,
   "metadata": {},
   "outputs": [],
   "source": [
    "#Json format\n",
    "#{'countyfip': (countyfip = concatenation state and county fip numbers)\n",
    "    #{'metric_one': 1234,\n",
    "    #'metric_two': 5678}}\n",
    "    \n",
    "final_json = {}\n",
    "\n",
    "for d in poverty_data[1:]:\n",
    "    #set variables to list elements\n",
    "    name, pop_total_str, pop_poverty_str, fip_state, fip_county = d\n",
    "    #convert strings to ints\n",
    "    pop_total_int = int(pop_total_str)\n",
    "    pop_poverty_int = int(pop_poverty_str)\n",
    "    #concat strings\n",
    "    fip_final = fip_state + fip_county\n",
    "    #calculate percent poverty\n",
    "    pct_poverty = pop_poverty_int / pop_total_int * 100\n",
    "    #create county json\n",
    "    county_json = {'name_county':name, 'population_total': pop_total_int, 'population_poverty': pop_poverty_int, 'percent_poverty': pct_poverty}\n",
    "    #set county key to county json value\n",
    "    final_json[fip_final] = county_json"
   ]
  },
  {
   "cell_type": "code",
   "execution_count": 41,
   "metadata": {},
   "outputs": [],
   "source": [
    "#save file\n",
    "with open('acs5countypoverty_output.json', 'w') as f:\n",
    "    json.dump(final_json, f)"
   ]
  },
  {
   "cell_type": "code",
   "execution_count": null,
   "metadata": {},
   "outputs": [],
   "source": []
  }
 ],
 "metadata": {
  "kernelspec": {
   "display_name": "Python 3",
   "language": "python",
   "name": "python3"
  },
  "language_info": {
   "codemirror_mode": {
    "name": "ipython",
    "version": 3
   },
   "file_extension": ".py",
   "mimetype": "text/x-python",
   "name": "python",
   "nbconvert_exporter": "python",
   "pygments_lexer": "ipython3",
   "version": "3.7.4"
  }
 },
 "nbformat": 4,
 "nbformat_minor": 4
}
